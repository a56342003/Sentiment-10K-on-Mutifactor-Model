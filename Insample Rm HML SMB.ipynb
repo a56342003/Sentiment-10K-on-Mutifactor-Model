{
 "cells": [
  {
   "cell_type": "code",
   "execution_count": 1,
   "metadata": {},
   "outputs": [],
   "source": [
    "import pickle\n",
    "import pandas as pd"
   ]
  },
  {
   "cell_type": "code",
   "execution_count": 7,
   "metadata": {},
   "outputs": [],
   "source": [
    "def assign_portfolio_by_size(df, senti_type):\n",
    "\n",
    "    df = df.copy()\n",
    "    senti_type_mark = senti_type + ' mark_in'\n",
    "    df[senti_type_mark] = 0\n",
    "    df_na = df[df[senti_type].isnull()]\n",
    "    df = df.dropna()\n",
    "    final_result_list = []\n",
    "    for year in range(2006,2019,1):\n",
    "        if year == 2006:\n",
    "            start_month = 7\n",
    "        else:\n",
    "            start_month = 1\n",
    "        year_df = df[df['year'] == year]\n",
    "        for month in range(start_month,13,1):\n",
    "            current_df = year_df[year_df['month'] == month]\n",
    "            current_df = current_df[current_df['B'] >= 0]\n",
    "            # Assign by senti\n",
    "            current_df = current_df.sort_values(senti_type)\n",
    "            total_size = current_df['market size'].sum()\n",
    "            current_size = 0\n",
    "            result_list=[]\n",
    "            for _, row in current_df.iterrows():\n",
    "                if current_size < (total_size * 0.5):\n",
    "                    row[senti_type_mark] = 'S'\n",
    "                else:\n",
    "                    row[senti_type_mark] = 'B'\n",
    "                current_size += row['market size']\n",
    "                result_list.append(row)\n",
    "            final_result_list.append(pd.DataFrame(result_list))\n",
    "        result_df = pd.concat([pd.concat(final_result_list), df_na])\n",
    "    return result_df\n",
    "\n",
    "def assign_portfolio_by_btm(df, senti_type):\n",
    "    '''\n",
    "    senti_type == 'vader' or 'li'\n",
    "    '''\n",
    "    df = df.copy()\n",
    "    senti_type_mark = senti_type + ' mark_in'\n",
    "    df[senti_type_mark] = 0\n",
    "    df_na = df[df[senti_type].isnull()]\n",
    "    df = df.dropna()\n",
    "    final_result_list = []\n",
    "    for year in range(2006,2019,1):\n",
    "        if year == 2006:\n",
    "            start_month = 7\n",
    "        else:\n",
    "            start_month = 1\n",
    "        year_df = df[df['year'] == year]\n",
    "        for month in range(start_month,13,1):\n",
    "            current_df = year_df[year_df['month'] == month]\n",
    "            current_df = current_df[current_df['B'] >= 0]\n",
    "            # Assign by senti\n",
    "            current_df = current_df.sort_values(senti_type)\n",
    "            total_size = current_df['market size'].sum()\n",
    "            current_size = 0\n",
    "            result_list=[]\n",
    "            for _, row in current_df.iterrows():\n",
    "                if current_size < (total_size * 0.3):\n",
    "                    row[senti_type_mark] = 'L'\n",
    "                elif current_size < (total_size * 0.7):\n",
    "                    row[senti_type_mark] = 'M'\n",
    "                else:\n",
    "                    row[senti_type_mark] = 'H'\n",
    "                current_size += row['market size']\n",
    "                result_list.append(row)\n",
    "            final_result_list.append(pd.DataFrame(result_list))\n",
    "        result_df = pd.concat([pd.concat(final_result_list), df_na])\n",
    "    return result_df\n",
    "\n",
    "def build_btm_size_dict(df):\n",
    "    portfolio_R_dict = {}\n",
    "    for year in range(2006,2019,1):\n",
    "        portfolio_R_dict[year] = {}\n",
    "        if year == 2006:\n",
    "            start_month = 7\n",
    "        else:\n",
    "            start_month = 1\n",
    "        year_df = df[df['year'] == year]\n",
    "        for month in range(start_month,13,1):\n",
    "            portfolio_R_dict[year][month]={}\n",
    "            month_df = year_df[year_df['month'] == month]\n",
    "            portfolio_R_dict[year][month]['Rm'] = month_df['market*R'].sum() / month_df['market size'].sum()\n",
    "            for mark in ['SL', 'SM', 'SH', 'BL', 'BM', 'BH']:\n",
    "                current_df = month_df[month_df['mark_in'] == mark]\n",
    "                R = current_df['market*R'].sum() / current_df['market size'].sum()\n",
    "                portfolio_R_dict[year][month][mark] = R\n",
    "    return portfolio_R_dict\n",
    "\n",
    "def build_Rm_dict(port_dict):\n",
    "    Rm_dict = {}\n",
    "    for year in range(2006,2019,1):\n",
    "        Rm_dict[year] = {}\n",
    "        if year == 2006:\n",
    "            start_month = 7\n",
    "        else:\n",
    "            start_month = 1\n",
    "        for month in range(start_month,13,1):\n",
    "            Rm_dict[year][month] = port_dict[year][month]['Rm']\n",
    "    return Rm_dict\n",
    "\n",
    "def build_dicts(port_dict):\n",
    "    Rm_dict = {}\n",
    "    HML_dict = {}\n",
    "    SMB_dict = {}\n",
    "    for year in range(2006,2019,1):\n",
    "        Rm_dict[year] = {}\n",
    "        HML_dict[year] = {}\n",
    "        SMB_dict[year] = {}\n",
    "        if year == 2006:\n",
    "            start_month = 7\n",
    "        else:\n",
    "            start_month = 1\n",
    "        for month in range(start_month,13,1):\n",
    "            current_port_dict = port_dict[year][month]\n",
    "            Rm_dict[year][month] = current_port_dict['Rm']\n",
    "            HML_dict[year][month] = (current_port_dict['BH'] + current_port_dict['SH'] \n",
    "                                     - current_port_dict['BL'] - current_port_dict['SL']) / 2\n",
    "            SMB_dict[year][month] = (current_port_dict['SH'] + current_port_dict['SM'] + current_port_dict['SL']\n",
    "                                    - current_port_dict['BH'] - current_port_dict['BM'] - current_port_dict['BL']) / 3\n",
    "    return Rm_dict, HML_dict, SMB_dict"
   ]
  },
  {
   "cell_type": "code",
   "execution_count": 4,
   "metadata": {},
   "outputs": [],
   "source": [
    "df = pd.read_pickle('D:/Thesis_data/df_final200107.pickle')\n",
    "df = assign_portfolio_by_size(df, 'market size')\n",
    "df = assign_portfolio_by_btm(df, 'btm')\n",
    "df['mark_in'] = df['market size mark_in'] + df['btm mark_in']\n",
    "portfolio_R_dict = build_btm_size_dict(df)"
   ]
  },
  {
   "cell_type": "code",
   "execution_count": 17,
   "metadata": {},
   "outputs": [],
   "source": [
    "df = assign_portfolio_by_btm(df, 'vader p_neg_sentence')\n",
    "df['mark_in'] = df['market size mark_in'] + df['vader p_neg_sentence mark_in']\n",
    "portfolio_R_dict = build_btm_size_dict(df)"
   ]
  },
  {
   "cell_type": "code",
   "execution_count": 18,
   "metadata": {},
   "outputs": [],
   "source": [
    "_, neg_PMN_dict, __ = build_dicts(portfolio_R_dict)"
   ]
  },
  {
   "cell_type": "code",
   "execution_count": 19,
   "metadata": {},
   "outputs": [],
   "source": [
    "with open('D:/Thesis_data/insample_factors/neg_tone_dict0109.pickle', 'wb') as f:\n",
    "    pickle.dump(neg_PMN_dict, f)"
   ]
  },
  {
   "cell_type": "code",
   "execution_count": 12,
   "metadata": {},
   "outputs": [
    {
     "data": {
      "text/plain": [
       "Index(['Ticker', 'market size', 'R', 'price', 'year', 'month', 'B',\n",
       "       'size mark', 'book mark', 'btm', 'book market mark', 'vader', 'li',\n",
       "       'vader mark', 'li mark', 'market*R', 'vader avg', 'short',\n",
       "       'vader p_neg', 'vader p_pos', 'vader n_words', 'vader p_neg mark',\n",
       "       'vader p_pos mark', 'vader avg mark', 'vader n_words mark',\n",
       "       'market size mark', 'btm mark', 'vader p_neg_sentence',\n",
       "       'vader p_pos_sentence', 'vader p_neg_sentence mark',\n",
       "       'vader p_pos_sentence mark', 'not nu', 'not nu mark', 'avg size mark',\n",
       "       'p_pos size mark', 'p_pos_sentence size mark', 'p_neg size mark',\n",
       "       'p_neg_sentence size mark', 'vader neg avg', 'vader pos avg',\n",
       "       'vader pos avg mark', 'vader neg avg mark', 'market size mark_in',\n",
       "       'btm mark_in', 'mark_in', 'vader mark_in'],\n",
       "      dtype='object')"
      ]
     },
     "execution_count": 12,
     "metadata": {},
     "output_type": "execute_result"
    }
   ],
   "source": [
    "df.columns"
   ]
  },
  {
   "cell_type": "code",
   "execution_count": null,
   "metadata": {},
   "outputs": [],
   "source": []
  }
 ],
 "metadata": {
  "kernelspec": {
   "display_name": "Python 3",
   "language": "python",
   "name": "python3"
  },
  "language_info": {
   "codemirror_mode": {
    "name": "ipython",
    "version": 3
   },
   "file_extension": ".py",
   "mimetype": "text/x-python",
   "name": "python",
   "nbconvert_exporter": "python",
   "pygments_lexer": "ipython3",
   "version": "3.7.3"
  }
 },
 "nbformat": 4,
 "nbformat_minor": 2
}
